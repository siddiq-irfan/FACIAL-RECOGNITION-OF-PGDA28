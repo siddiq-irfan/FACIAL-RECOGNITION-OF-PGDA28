{
 "cells": [
  {
   "cell_type": "code",
   "execution_count": 1,
   "id": "cb6bd15a",
   "metadata": {},
   "outputs": [],
   "source": [
    "#specifying the folder where images are present"
   ]
  },
  {
   "cell_type": "code",
   "execution_count": 2,
   "id": "8323cbe5",
   "metadata": {},
   "outputs": [],
   "source": [
    "TrainingImagePath = \"C:\\\\Users\\\\Siddiq\\\\Desktop\\\\face\\\\Train\\\\Train\""
   ]
  },
  {
   "cell_type": "code",
   "execution_count": 3,
   "id": "da596b09",
   "metadata": {},
   "outputs": [],
   "source": [
    "validationImagePath = \"C:\\\\Users\\\\Siddiq\\\\Downloads\\\\validation\\\\validation\""
   ]
  },
  {
   "cell_type": "code",
   "execution_count": 4,
   "id": "0b3a86e5",
   "metadata": {},
   "outputs": [],
   "source": [
    "from keras.preprocessing.image import ImageDataGenerator"
   ]
  },
  {
   "cell_type": "code",
   "execution_count": 5,
   "id": "093f4fd0",
   "metadata": {},
   "outputs": [],
   "source": [
    "#base model"
   ]
  },
  {
   "cell_type": "code",
   "execution_count": 6,
   "id": "13be2a8a",
   "metadata": {},
   "outputs": [],
   "source": [
    "train_datagen = ImageDataGenerator(rescale = 1./225)"
   ]
  },
  {
   "cell_type": "code",
   "execution_count": 7,
   "id": "2c1a367d",
   "metadata": {},
   "outputs": [],
   "source": [
    "test_datagen = ImageDataGenerator(rescale = 1./225)"
   ]
  },
  {
   "cell_type": "code",
   "execution_count": 8,
   "id": "b3ee156d",
   "metadata": {},
   "outputs": [],
   "source": [
    "#Generating the training data"
   ]
  },
  {
   "cell_type": "code",
   "execution_count": 9,
   "id": "dfa42c58",
   "metadata": {},
   "outputs": [
    {
     "name": "stdout",
     "output_type": "stream",
     "text": [
      "Found 200 images belonging to 25 classes.\n",
      "Found 200 images belonging to 25 classes.\n"
     ]
    }
   ],
   "source": [
    "training_set = train_datagen.flow_from_directory(TrainingImagePath,\n",
    "                                                target_size = (64,64),\n",
    "                                                batch_size = 20,\n",
    "                                                class_mode = 'categorical')"
   ]
  },
  {
   "cell_type": "markdown",
   "id": "2c15810a",
   "metadata": {},
   "source": [
    "# Validation set"
   ]
  },
  {
   "cell_type": "code",
   "execution_count": 10,
   "id": "fd5caa5e",
   "metadata": {},
   "outputs": [],
   "source": [
    "#Generating the validation data"
   ]
  },
  {
   "cell_type": "code",
   "execution_count": 11,
   "id": "3cc075fc",
   "metadata": {},
   "outputs": [
    {
     "name": "stdout",
     "output_type": "stream",
     "text": [
      "Found 50 images belonging to 25 classes.\n",
      "Found 50 images belonging to 25 classes.\n"
     ]
    }
   ],
   "source": [
    "validation_set = test_datagen.flow_from_directory(validationImagePath,\n",
    "                                                target_size = (64,64),\n",
    "                                                batch_size = 20,\n",
    "                                                class_mode = 'categorical')"
   ]
  },
  {
   "cell_type": "code",
   "execution_count": 12,
   "id": "2449158c",
   "metadata": {},
   "outputs": [],
   "source": [
    "# Libraries and model type"
   ]
  },
  {
   "cell_type": "code",
   "execution_count": 13,
   "id": "1876bc63",
   "metadata": {},
   "outputs": [],
   "source": [
    "# Create CNN Deep learning model"
   ]
  },
  {
   "cell_type": "code",
   "execution_count": 14,
   "id": "ece0fe30",
   "metadata": {},
   "outputs": [],
   "source": [
    "from keras.models import Sequential\n",
    "from keras.layers import Convolution2D\n",
    "from keras.layers import MaxPool2D\n",
    "from keras.layers import Flatten\n",
    "from keras.layers import Dense"
   ]
  },
  {
   "cell_type": "code",
   "execution_count": 15,
   "id": "8e020c1c",
   "metadata": {},
   "outputs": [],
   "source": [
    "# Initializing the Convolutional Neural Network"
   ]
  },
  {
   "cell_type": "code",
   "execution_count": 16,
   "id": "2fff8cc7",
   "metadata": {},
   "outputs": [],
   "source": [
    "classifier = Sequential()"
   ]
  },
  {
   "cell_type": "markdown",
   "id": "4cfe1d78",
   "metadata": {},
   "source": [
    "# MODEL"
   ]
  },
  {
   "cell_type": "code",
   "execution_count": 17,
   "id": "8492de9e",
   "metadata": {},
   "outputs": [],
   "source": [
    "# STEP 1 Convolution\n",
    "# Adding th e first layer of CNN\n",
    "# We are using the format (64,64,3) because we are using Tensorflow backend\n",
    "# It means 3 matrix of size (64x64) pixels representing Red, Green and Blue components of pixels"
   ]
  },
  {
   "cell_type": "code",
   "execution_count": 18,
   "id": "32963cf9",
   "metadata": {},
   "outputs": [],
   "source": [
    "classifier.add(Convolution2D(32, kernel_size=(3,3),\n",
    "                            input_shape=(64,64,3), activation ='relu'))"
   ]
  },
  {
   "cell_type": "code",
   "execution_count": 19,
   "id": "d839be54",
   "metadata": {},
   "outputs": [],
   "source": [
    "#STEP 2- Max Pooling"
   ]
  },
  {
   "cell_type": "code",
   "execution_count": 20,
   "id": "89846aab",
   "metadata": {},
   "outputs": [],
   "source": [
    "classifier.add(MaxPool2D(pool_size=(2,2)))"
   ]
  },
  {
   "cell_type": "code",
   "execution_count": 21,
   "id": "2b18d1c4",
   "metadata": {},
   "outputs": [],
   "source": [
    "# Additional layer of convolution for better accuracy"
   ]
  },
  {
   "cell_type": "code",
   "execution_count": 22,
   "id": "1170bde1",
   "metadata": {},
   "outputs": [],
   "source": [
    "classifier.add(Convolution2D(64, kernel_size=(3,3), activation='relu'))"
   ]
  },
  {
   "cell_type": "code",
   "execution_count": 23,
   "id": "26797a27",
   "metadata": {},
   "outputs": [],
   "source": [
    "classifier.add(MaxPool2D(pool_size=(2,2)))"
   ]
  },
  {
   "cell_type": "code",
   "execution_count": 24,
   "id": "31e1c251",
   "metadata": {},
   "outputs": [],
   "source": [
    "#STEP 3- Flattening"
   ]
  },
  {
   "cell_type": "code",
   "execution_count": 25,
   "id": "abef6142",
   "metadata": {},
   "outputs": [],
   "source": [
    "classifier.add(Flatten())"
   ]
  },
  {
   "cell_type": "code",
   "execution_count": 26,
   "id": "d2e9867d",
   "metadata": {},
   "outputs": [],
   "source": [
    "#STEP 4 - Fully connected neural network"
   ]
  },
  {
   "cell_type": "code",
   "execution_count": 27,
   "id": "5bc26754",
   "metadata": {},
   "outputs": [],
   "source": [
    "classifier.add(Dense(64, activation='relu'))"
   ]
  },
  {
   "cell_type": "code",
   "execution_count": 28,
   "id": "ab05d9c6",
   "metadata": {},
   "outputs": [],
   "source": [
    "classifier.add(Dense(25, activation='softmax'))"
   ]
  },
  {
   "cell_type": "code",
   "execution_count": 29,
   "id": "1521fca7",
   "metadata": {},
   "outputs": [
    {
     "name": "stdout",
     "output_type": "stream",
     "text": [
      "Model: \"sequential\"\n",
      "_________________________________________________________________\n",
      "Model: \"sequential\"\n",
      " Layer (type)                Output Shape              Param #   \n",
      "=================================================================\n",
      " conv2d (Conv2D)             (None, 62, 62, 32)        896       \n",
      "                                                                 \n",
      "_________________________________________________________________\n",
      " Layer (type)                Output Shape              Param #   \n",
      "=================================================================\n",
      " max_pooling2d (MaxPooling2D  (None, 31, 31, 32)       0         \n",
      " )                                                               \n",
      "                                                                 \n",
      " conv2d_1 (Conv2D)           (None, 29, 29, 64)        18496     \n",
      "                                                                 \n",
      " conv2d (Conv2D)             (None, 62, 62, 32)        896       \n",
      "                                                                 \n",
      " max_pooling2d (MaxPooling2D  (None, 31, 31, 32)       0         \n",
      " )                                                               \n",
      "                                                                 \n",
      " conv2d_1 (Conv2D)           (None, 29, 29, 64)        18496     \n",
      " max_pooling2d_1 (MaxPooling  (None, 14, 14, 64)       0         \n",
      " 2D)                                                             \n",
      "                                                                 \n",
      " flatten (Flatten)           (None, 12544)             0         \n",
      "                                                                 \n",
      "                                                                 \n",
      " max_pooling2d_1 (MaxPooling  (None, 14, 14, 64)       0         \n",
      " 2D)                                                             \n",
      "                                                                 \n",
      " flatten (Flatten)           (None, 12544)             0         \n",
      "                                                                 \n",
      " dense (Dense)               (None, 64)                802880    \n",
      "                                                                 \n",
      " dense_1 (Dense)             (None, 25)                1625      \n",
      "                                                                 \n",
      "=================================================================\n",
      "Total params: 823,897\n",
      " dense (Dense)               (None, 64)                802880    \n",
      "                                                                 \n",
      " dense_1 (Dense)             (None, 25)                1625      \n",
      "                                                                 \n",
      "=================================================================\n",
      "Total params: 823,897\n",
      "Trainable params: 823,897\n",
      "Non-trainable params: 0\n",
      "_________________________________________________________________\n",
      "Trainable params: 823,897\n",
      "Non-trainable params: 0\n",
      "_________________________________________________________________\n"
     ]
    }
   ],
   "source": [
    "classifier.summary()"
   ]
  },
  {
   "cell_type": "markdown",
   "id": "aa3726de",
   "metadata": {},
   "source": [
    "# Compiler"
   ]
  },
  {
   "cell_type": "code",
   "execution_count": 30,
   "id": "b7cdf085",
   "metadata": {},
   "outputs": [],
   "source": [
    "# Compiling the CNN"
   ]
  },
  {
   "cell_type": "code",
   "execution_count": 31,
   "id": "21641481",
   "metadata": {},
   "outputs": [],
   "source": [
    "classifier.compile(loss='categorical_crossentropy',\n",
    "                  optimizer = 'adam', metrics =['accuracy'])"
   ]
  },
  {
   "cell_type": "markdown",
   "id": "e1a12966",
   "metadata": {},
   "source": [
    "# Execution of model"
   ]
  },
  {
   "cell_type": "code",
   "execution_count": 32,
   "id": "36a06941",
   "metadata": {},
   "outputs": [],
   "source": [
    "# Starting the model training"
   ]
  },
  {
   "cell_type": "code",
   "execution_count": 33,
   "id": "48f4fa72",
   "metadata": {},
   "outputs": [
    {
     "name": "stderr",
     "output_type": "stream",
     "text": [
      "C:\\Users\\Siddiq\\AppData\\Local\\Temp\\ipykernel_8532\\2354014473.py:1: UserWarning: `Model.fit_generator` is deprecated and will be removed in a future version. Please use `Model.fit`, which supports generators.\n",
      "  history = classifier.fit_generator(training_set, epochs =20,\n",
      "C:\\Users\\Siddiq\\AppData\\Local\\Temp\\ipykernel_8532\\2354014473.py:1: UserWarning: `Model.fit_generator` is deprecated and will be removed in a future version. Please use `Model.fit`, which supports generators.\n",
      "  history = classifier.fit_generator(training_set, epochs =20,\n"
     ]
    },
    {
     "name": "stdout",
     "output_type": "stream",
     "text": [
      "Epoch 1/20\n",
      "Epoch 1/20\n",
      "10/10 [==============================] - 16s 1s/step - loss: 3.2721 - accuracy: 0.0550 - val_loss: 3.1181 - val_accuracy: 0.0600\n",
      "10/10 [==============================] - 16s 1s/step - loss: 3.2721 - accuracy: 0.0550 - val_loss: 3.1181 - val_accuracy: 0.0600\n",
      "Epoch 2/20\n",
      "Epoch 2/20\n",
      "10/10 [==============================] - 12s 1s/step - loss: 3.0268 - accuracy: 0.1000 - val_loss: 2.9200 - val_accuracy: 0.2000\n",
      "10/10 [==============================] - 12s 1s/step - loss: 3.0268 - accuracy: 0.1000 - val_loss: 2.9200 - val_accuracy: 0.2000\n",
      "Epoch 3/20\n",
      "Epoch 3/20\n",
      "10/10 [==============================] - 11s 1s/step - loss: 2.7253 - accuracy: 0.3350 - val_loss: 2.5484 - val_accuracy: 0.3600\n",
      "10/10 [==============================] - 11s 1s/step - loss: 2.7253 - accuracy: 0.3350 - val_loss: 2.5484 - val_accuracy: 0.3600\n",
      "Epoch 4/20\n",
      "Epoch 4/20\n",
      "10/10 [==============================] - 12s 1s/step - loss: 2.1809 - accuracy: 0.4500 - val_loss: 2.1011 - val_accuracy: 0.4800\n",
      "10/10 [==============================] - 12s 1s/step - loss: 2.1809 - accuracy: 0.4500 - val_loss: 2.1011 - val_accuracy: 0.4800\n",
      "Epoch 5/20\n",
      "Epoch 5/20\n",
      "10/10 [==============================] - 10s 1s/step - loss: 1.5283 - accuracy: 0.6650 - val_loss: 1.6670 - val_accuracy: 0.6000\n",
      "10/10 [==============================] - 10s 1s/step - loss: 1.5283 - accuracy: 0.6650 - val_loss: 1.6670 - val_accuracy: 0.6000\n",
      "Epoch 6/20\n",
      "Epoch 6/20\n",
      "10/10 [==============================] - 10s 1s/step - loss: 0.9515 - accuracy: 0.7750 - val_loss: 1.3422 - val_accuracy: 0.7000\n",
      "10/10 [==============================] - 10s 1s/step - loss: 0.9515 - accuracy: 0.7750 - val_loss: 1.3422 - val_accuracy: 0.7000\n",
      "Epoch 7/20\n",
      "Epoch 7/20\n",
      "10/10 [==============================] - 10s 1s/step - loss: 0.4387 - accuracy: 0.9300 - val_loss: 1.4280 - val_accuracy: 0.6400\n",
      "10/10 [==============================] - 10s 1s/step - loss: 0.4387 - accuracy: 0.9300 - val_loss: 1.4280 - val_accuracy: 0.6400\n",
      "Epoch 8/20\n",
      "Epoch 8/20\n",
      "10/10 [==============================] - 9s 911ms/step - loss: 0.2487 - accuracy: 0.9350 - val_loss: 1.3957 - val_accuracy: 0.7400\n",
      "10/10 [==============================] - 9s 911ms/step - loss: 0.2487 - accuracy: 0.9350 - val_loss: 1.3957 - val_accuracy: 0.7400\n",
      "Epoch 9/20\n",
      "Epoch 9/20\n",
      "10/10 [==============================] - 12s 1s/step - loss: 0.1159 - accuracy: 0.9850 - val_loss: 1.2386 - val_accuracy: 0.7200\n",
      "10/10 [==============================] - 12s 1s/step - loss: 0.1159 - accuracy: 0.9850 - val_loss: 1.2386 - val_accuracy: 0.7200\n",
      "Epoch 10/20\n",
      "Epoch 10/20\n",
      "10/10 [==============================] - 13s 1s/step - loss: 0.0692 - accuracy: 0.9850 - val_loss: 1.3222 - val_accuracy: 0.6800\n",
      "10/10 [==============================] - 13s 1s/step - loss: 0.0692 - accuracy: 0.9850 - val_loss: 1.3222 - val_accuracy: 0.6800\n",
      "Epoch 11/20\n",
      "Epoch 11/20\n",
      "10/10 [==============================] - 11s 1s/step - loss: 0.0411 - accuracy: 0.9900 - val_loss: 1.3730 - val_accuracy: 0.7600\n",
      "10/10 [==============================] - 11s 1s/step - loss: 0.0411 - accuracy: 0.9900 - val_loss: 1.3730 - val_accuracy: 0.7600\n",
      "Epoch 12/20\n",
      "Epoch 12/20\n",
      "10/10 [==============================] - 10s 1s/step - loss: 0.0150 - accuracy: 1.0000 - val_loss: 1.2719 - val_accuracy: 0.7000\n",
      "10/10 [==============================] - 10s 1s/step - loss: 0.0150 - accuracy: 1.0000 - val_loss: 1.2719 - val_accuracy: 0.7000\n",
      "Epoch 13/20\n",
      "Epoch 13/20\n",
      "10/10 [==============================] - 11s 1s/step - loss: 0.0102 - accuracy: 1.0000 - val_loss: 1.2334 - val_accuracy: 0.7200\n",
      "10/10 [==============================] - 11s 1s/step - loss: 0.0102 - accuracy: 1.0000 - val_loss: 1.2334 - val_accuracy: 0.7200\n",
      "Epoch 14/20\n",
      "Epoch 14/20\n",
      "10/10 [==============================] - 11s 1s/step - loss: 0.0058 - accuracy: 1.0000 - val_loss: 1.3733 - val_accuracy: 0.7200\n",
      "10/10 [==============================] - 11s 1s/step - loss: 0.0058 - accuracy: 1.0000 - val_loss: 1.3733 - val_accuracy: 0.7200\n",
      "Epoch 15/20\n",
      "Epoch 15/20\n",
      "10/10 [==============================] - 10s 1s/step - loss: 0.0043 - accuracy: 1.0000 - val_loss: 1.2916 - val_accuracy: 0.7400\n",
      "10/10 [==============================] - 10s 1s/step - loss: 0.0043 - accuracy: 1.0000 - val_loss: 1.2916 - val_accuracy: 0.7400\n",
      "Epoch 16/20\n",
      "Epoch 16/20\n",
      "10/10 [==============================] - 10s 998ms/step - loss: 0.0032 - accuracy: 1.0000 - val_loss: 1.3046 - val_accuracy: 0.7200\n",
      "10/10 [==============================] - 10s 998ms/step - loss: 0.0032 - accuracy: 1.0000 - val_loss: 1.3046 - val_accuracy: 0.7200\n",
      "Epoch 17/20\n",
      "Epoch 17/20\n",
      "10/10 [==============================] - 12s 1s/step - loss: 0.0026 - accuracy: 1.0000 - val_loss: 1.3545 - val_accuracy: 0.7200\n",
      "10/10 [==============================] - 12s 1s/step - loss: 0.0026 - accuracy: 1.0000 - val_loss: 1.3545 - val_accuracy: 0.7200\n",
      "Epoch 18/20\n",
      "Epoch 18/20\n",
      "10/10 [==============================] - 10s 1s/step - loss: 0.0022 - accuracy: 1.0000 - val_loss: 1.3661 - val_accuracy: 0.7200\n",
      "10/10 [==============================] - 10s 1s/step - loss: 0.0022 - accuracy: 1.0000 - val_loss: 1.3661 - val_accuracy: 0.7200\n",
      "Epoch 19/20\n",
      "Epoch 19/20\n",
      "10/10 [==============================] - 12s 1s/step - loss: 0.0019 - accuracy: 1.0000 - val_loss: 1.3557 - val_accuracy: 0.7200\n",
      "10/10 [==============================] - 12s 1s/step - loss: 0.0019 - accuracy: 1.0000 - val_loss: 1.3557 - val_accuracy: 0.7200\n",
      "Epoch 20/20\n",
      "Epoch 20/20\n",
      "10/10 [==============================] - 13s 1s/step - loss: 0.0018 - accuracy: 1.0000 - val_loss: 1.3676 - val_accuracy: 0.7200\n",
      "10/10 [==============================] - 13s 1s/step - loss: 0.0018 - accuracy: 1.0000 - val_loss: 1.3676 - val_accuracy: 0.7200\n"
     ]
    }
   ],
   "source": [
    "history = classifier.fit_generator(training_set, epochs =20,\n",
    "                                  validation_data=validation_set)"
   ]
  },
  {
   "cell_type": "markdown",
   "id": "a667778a",
   "metadata": {},
   "source": [
    "# Accuracy base model"
   ]
  },
  {
   "cell_type": "code",
   "execution_count": 34,
   "id": "da29d502",
   "metadata": {},
   "outputs": [],
   "source": [
    "#Displaying curves of loss and accuracy during training"
   ]
  },
  {
   "cell_type": "code",
   "execution_count": 35,
   "id": "6a3b388c",
   "metadata": {},
   "outputs": [],
   "source": [
    "import matplotlib.pyplot as plt"
   ]
  },
  {
   "cell_type": "code",
   "execution_count": 36,
   "id": "a2f54536",
   "metadata": {},
   "outputs": [],
   "source": [
    "acc = history.history['accuracy']"
   ]
  },
  {
   "cell_type": "code",
   "execution_count": 37,
   "id": "4d3c58b8",
   "metadata": {},
   "outputs": [],
   "source": [
    "val_acc = history.history['val_accuracy']"
   ]
  },
  {
   "cell_type": "code",
   "execution_count": 38,
   "id": "c4eade01",
   "metadata": {},
   "outputs": [],
   "source": [
    "loss = history.history['loss']"
   ]
  },
  {
   "cell_type": "code",
   "execution_count": 39,
   "id": "e04e4857",
   "metadata": {},
   "outputs": [],
   "source": [
    "val_loss = history.history['val_loss']"
   ]
  },
  {
   "cell_type": "code",
   "execution_count": 40,
   "id": "30d0b84f",
   "metadata": {},
   "outputs": [],
   "source": [
    "epochs = range(1, len(acc) + 1)"
   ]
  },
  {
   "cell_type": "code",
   "execution_count": 41,
   "id": "7002cc49",
   "metadata": {},
   "outputs": [
    {
     "data": {
      "text/plain": [
       "<Figure size 432x288 with 0 Axes>"
      ]
     },
     "execution_count": 41,
     "metadata": {},
     "output_type": "execute_result"
    },
    {
     "data": {
      "text/plain": [
       "<Figure size 432x288 with 0 Axes>"
      ]
     },
     "execution_count": 41,
     "metadata": {},
     "output_type": "execute_result"
    },
    {
     "data": {
      "image/png": "[encoded data removed]",
      "text/plain": [
       "<Figure size 432x288 with 1 Axes>"
      ]
     },
     "metadata": {
      "needs_background": "light"
     },
     "output_type": "display_data"
    },
    {
     "data": {
      "text/plain": [
       "<Figure size 432x288 with 0 Axes>"
      ]
     },
     "metadata": {},
     "output_type": "display_data"
    },
    {
     "data": {
      "image/png": "[encoded data removed]",
      "text/plain": [
       "<Figure size 432x288 with 1 Axes>"
      ]
     },
     "metadata": {
      "needs_background": "light"
     },
     "output_type": "display_data"
    },
    {
     "data": {
      "text/plain": [
       "<Figure size 432x288 with 0 Axes>"
      ]
     },
     "metadata": {},
     "output_type": "display_data"
    }
   ],
   "source": [
    "plt.plot(epochs, acc, 'bo', label='Training acc')\n",
    "plt.plot(epochs, val_acc, 'r', label='Validation acc')\n",
    "plt.title('Training and validation accuracy')\n",
    "plt.legend()\n",
    "plt.figure()"
   ]
  },
  {
   "cell_type": "markdown",
   "id": "e204e892",
   "metadata": {},
   "source": [
    "# Loss base model"
   ]
  },
  {
   "cell_type": "code",
   "execution_count": 42,
   "id": "11e1d8e3",
   "metadata": {},
   "outputs": [
    {
     "data": {
      "text/plain": [
       "<Figure size 432x288 with 0 Axes>"
      ]
     },
     "execution_count": 42,
     "metadata": {},
     "output_type": "execute_result"
    },
    {
     "data": {
      "text/plain": [
       "<Figure size 432x288 with 0 Axes>"
      ]
     },
     "execution_count": 42,
     "metadata": {},
     "output_type": "execute_result"
    },
    {
     "data": {
      "image/png": "[encoded data removed]",
      "text/plain": [
       "<Figure size 432x288 with 1 Axes>"
      ]
     },
     "metadata": {
      "needs_background": "light"
     },
     "output_type": "display_data"
    },
    {
     "data": {
      "text/plain": [
       "<Figure size 432x288 with 0 Axes>"
      ]
     },
     "metadata": {},
     "output_type": "display_data"
    },
    {
     "data": {
      "image/png": "[encoded data removed]",
      "text/plain": [
       "<Figure size 432x288 with 1 Axes>"
      ]
     },
     "metadata": {
      "needs_background": "light"
     },
     "output_type": "display_data"
    },
    {
     "data": {
      "text/plain": [
       "<Figure size 432x288 with 0 Axes>"
      ]
     },
     "metadata": {},
     "output_type": "display_data"
    }
   ],
   "source": [
    "plt.plot(epochs, loss, 'bo', label='Training loss')\n",
    "plt.plot(epochs, val_loss, 'r', label='Validation loss')\n",
    "plt.title('Training and validation loss')\n",
    "plt.legend()\n",
    "plt.figure()"
   ]
  },
  {
   "cell_type": "code",
   "execution_count": 43,
   "id": "e42e2f8e",
   "metadata": {},
   "outputs": [],
   "source": [
    "# Lets improve"
   ]
  },
  {
   "cell_type": "code",
   "execution_count": 44,
   "id": "938e7633",
   "metadata": {},
   "outputs": [],
   "source": [
    "# Model 2"
   ]
  },
  {
   "cell_type": "code",
   "execution_count": 45,
   "id": "d36a13e2",
   "metadata": {},
   "outputs": [],
   "source": [
    "# Adding parameters in the ImageDatagenerator"
   ]
  },
  {
   "cell_type": "code",
   "execution_count": 46,
   "id": "b327fbe6",
   "metadata": {},
   "outputs": [],
   "source": [
    "train_datagen = ImageDataGenerator(rescale=1./225, shear_range=0.5,\n",
    "                                  zoom_range=0.5, width_shift_range=0.2,\n",
    "                                  height_shift_range=0.2)"
   ]
  },
  {
   "cell_type": "code",
   "execution_count": 47,
   "id": "1cc4e1de",
   "metadata": {},
   "outputs": [],
   "source": [
    "# No transformations are done on the testing images"
   ]
  },
  {
   "cell_type": "code",
   "execution_count": 48,
   "id": "c95e3a4b",
   "metadata": {},
   "outputs": [],
   "source": [
    "test_datgen = ImageDataGenerator(rescale=1./225)"
   ]
  },
  {
   "cell_type": "code",
   "execution_count": 49,
   "id": "7a842909",
   "metadata": {},
   "outputs": [],
   "source": [
    "# Generating the training data"
   ]
  },
  {
   "cell_type": "code",
   "execution_count": 50,
   "id": "e4eec759",
   "metadata": {},
   "outputs": [
    {
     "name": "stdout",
     "output_type": "stream",
     "text": [
      "Found 200 images belonging to 25 classes.\n",
      "Found 200 images belonging to 25 classes.\n"
     ]
    }
   ],
   "source": [
    "training_set = train_datagen.flow_from_directory(TrainingImagePath,\n",
    "                                                target_size=(64,64),\n",
    "                                                batch_size=20,\n",
    "                                                class_mode='categorical')"
   ]
  },
  {
   "cell_type": "code",
   "execution_count": 51,
   "id": "31d3f981",
   "metadata": {},
   "outputs": [],
   "source": [
    "# Generating the validation data"
   ]
  },
  {
   "cell_type": "code",
   "execution_count": 52,
   "id": "2ac9a009",
   "metadata": {},
   "outputs": [
    {
     "name": "stdout",
     "output_type": "stream",
     "text": [
      "Found 50 images belonging to 25 classes.\n",
      "Found 50 images belonging to 25 classes.\n"
     ]
    }
   ],
   "source": [
    "validation_set = test_datagen.flow_from_directory(validationImagePath,\n",
    "                                                target_size=(64,64),\n",
    "                                                batch_size=20,\n",
    "                                                class_mode='categorical')"
   ]
  },
  {
   "cell_type": "code",
   "execution_count": 53,
   "id": "419ed527",
   "metadata": {},
   "outputs": [],
   "source": [
    "#Create Cnn deep learning model"
   ]
  },
  {
   "cell_type": "code",
   "execution_count": 54,
   "id": "dd2270d6",
   "metadata": {},
   "outputs": [],
   "source": [
    "from keras.models import Sequential\n",
    "from keras.layers import Convolution2D\n",
    "from keras.layers import MaxPool2D\n",
    "from keras.layers import Flatten\n",
    "from keras.layers import Dense"
   ]
  },
  {
   "cell_type": "code",
   "execution_count": 55,
   "id": "e7991c5a",
   "metadata": {},
   "outputs": [],
   "source": [
    "# Initializing the Convolutional Neural Network"
   ]
  },
  {
   "cell_type": "code",
   "execution_count": 56,
   "id": "b35b1bd3",
   "metadata": {},
   "outputs": [],
   "source": [
    "classifier = Sequential()"
   ]
  },
  {
   "cell_type": "code",
   "execution_count": 57,
   "id": "675de677",
   "metadata": {},
   "outputs": [],
   "source": [
    "# Convolution"
   ]
  },
  {
   "cell_type": "code",
   "execution_count": 58,
   "id": "41ea7190",
   "metadata": {},
   "outputs": [],
   "source": [
    "classifier.add(Convolution2D(32, kernel_size=(3,3),\n",
    "                            input_shape=(64,64,3), activation ='relu'))"
   ]
  },
  {
   "cell_type": "code",
   "execution_count": 59,
   "id": "67ccb2d7",
   "metadata": {},
   "outputs": [],
   "source": [
    "#Max Pooling"
   ]
  },
  {
   "cell_type": "code",
   "execution_count": 60,
   "id": "4274ae60",
   "metadata": {},
   "outputs": [],
   "source": [
    "classifier.add(MaxPool2D(pool_size=(2,2)))"
   ]
  },
  {
   "cell_type": "code",
   "execution_count": 61,
   "id": "09ee17bb",
   "metadata": {},
   "outputs": [],
   "source": [
    "# Additional layer of convolution for better accuracy"
   ]
  },
  {
   "cell_type": "code",
   "execution_count": 62,
   "id": "59700aaf",
   "metadata": {},
   "outputs": [],
   "source": [
    "classifier.add(Convolution2D(64, kernel_size=(3,3), activation='relu'))"
   ]
  },
  {
   "cell_type": "code",
   "execution_count": 63,
   "id": "6a26d79a",
   "metadata": {},
   "outputs": [],
   "source": [
    "classifier.add(MaxPool2D(pool_size=(2,2)))"
   ]
  },
  {
   "cell_type": "code",
   "execution_count": 64,
   "id": "63e421f6",
   "metadata": {},
   "outputs": [],
   "source": [
    "#Flattening"
   ]
  },
  {
   "cell_type": "code",
   "execution_count": 65,
   "id": "ee3eb2d6",
   "metadata": {},
   "outputs": [],
   "source": [
    "classifier.add(Flatten())"
   ]
  },
  {
   "cell_type": "code",
   "execution_count": 66,
   "id": "521c5572",
   "metadata": {},
   "outputs": [],
   "source": [
    "#Fully connected neural network"
   ]
  },
  {
   "cell_type": "code",
   "execution_count": 67,
   "id": "4b484240",
   "metadata": {},
   "outputs": [],
   "source": [
    "classifier.add(Dense(64, activation='relu'))#hidden layer"
   ]
  },
  {
   "cell_type": "code",
   "execution_count": 68,
   "id": "9c0df7bb",
   "metadata": {},
   "outputs": [],
   "source": [
    "classifier.add(Dense(25, activation='softmax'))#output layer"
   ]
  },
  {
   "cell_type": "code",
   "execution_count": 69,
   "id": "2a29ce4b",
   "metadata": {},
   "outputs": [
    {
     "name": "stdout",
     "output_type": "stream",
     "text": [
      "Model: \"sequential_1\"\n",
      "_________________________________________________________________\n",
      "Model: \"sequential_1\"\n",
      " Layer (type)                Output Shape              Param #   \n",
      "_________________________________________________________________\n",
      "=================================================================\n",
      " conv2d_2 (Conv2D)           (None, 62, 62, 32)        896       \n",
      "                                                                 \n",
      " max_pooling2d_2 (MaxPooling  (None, 31, 31, 32)       0         \n",
      " Layer (type)                Output Shape              Param #   \n",
      "=================================================================\n",
      " conv2d_2 (Conv2D)           (None, 62, 62, 32)        896       \n",
      " 2D)                                                             \n",
      "                                                                 \n",
      "                                                                 \n",
      " max_pooling2d_2 (MaxPooling  (None, 31, 31, 32)       0         \n",
      " 2D)                                                             \n",
      " conv2d_3 (Conv2D)           (None, 29, 29, 64)        18496     \n",
      "                                                                 \n",
      " max_pooling2d_3 (MaxPooling  (None, 14, 14, 64)       0         \n",
      "                                                                 \n",
      " conv2d_3 (Conv2D)           (None, 29, 29, 64)        18496     \n",
      "                                                                 \n",
      " 2D)                                                             \n",
      "                                                                 \n",
      " flatten_1 (Flatten)         (None, 12544)             0         \n",
      " max_pooling2d_3 (MaxPooling  (None, 14, 14, 64)       0         \n",
      " 2D)                                                             \n",
      "                                                                 \n",
      "                                                                 \n",
      " dense_2 (Dense)             (None, 64)                802880    \n",
      "                                                                 \n",
      " dense_3 (Dense)             (None, 25)                1625      \n",
      " flatten_1 (Flatten)         (None, 12544)             0         \n",
      "                                                                 \n",
      " dense_2 (Dense)             (None, 64)                802880    \n",
      "                                                                 \n",
      "                                                                 \n",
      "=================================================================\n",
      "Total params: 823,897\n",
      " dense_3 (Dense)             (None, 25)                1625      \n",
      "                                                                 \n",
      "=================================================================\n",
      "Trainable params: 823,897\n",
      "Non-trainable params: 0\n",
      "Total params: 823,897\n",
      "Trainable params: 823,897\n",
      "Non-trainable params: 0\n",
      "_________________________________________________________________\n",
      "_________________________________________________________________\n"
     ]
    }
   ],
   "source": [
    "classifier.summary()"
   ]
  },
  {
   "cell_type": "code",
   "execution_count": 70,
   "id": "10684d06",
   "metadata": {},
   "outputs": [],
   "source": [
    "#Compiler"
   ]
  },
  {
   "cell_type": "code",
   "execution_count": 71,
   "id": "cc589088",
   "metadata": {},
   "outputs": [],
   "source": [
    "classifier.compile(loss='categorical_crossentropy',\n",
    "                  optimizer='adam', metrics=['accuracy'])"
   ]
  },
  {
   "cell_type": "code",
   "execution_count": 72,
   "id": "74654438",
   "metadata": {},
   "outputs": [],
   "source": [
    "#Execute"
   ]
  },
  {
   "cell_type": "code",
   "execution_count": 73,
   "id": "e2cf2a98",
   "metadata": {},
   "outputs": [],
   "source": [
    "#Starting the model training"
   ]
  },
  {
   "cell_type": "code",
   "execution_count": 74,
   "id": "76babdab",
   "metadata": {},
   "outputs": [
    {
     "name": "stderr",
     "output_type": "stream",
     "text": [
      "C:\\Users\\Siddiq\\AppData\\Local\\Temp\\ipykernel_8532\\346272482.py:1: UserWarning: `Model.fit_generator` is deprecated and will be removed in a future version. Please use `Model.fit`, which supports generators.\n",
      "  history = classifier.fit_generator(training_set, epochs =100,\n",
      "C:\\Users\\Siddiq\\AppData\\Local\\Temp\\ipykernel_8532\\346272482.py:1: UserWarning: `Model.fit_generator` is deprecated and will be removed in a future version. Please use `Model.fit`, which supports generators.\n",
      "  history = classifier.fit_generator(training_set, epochs =100,\n"
     ]
    },
    {
     "name": "stdout",
     "output_type": "stream",
     "text": [
      "Epoch 1/100\n",
      "Epoch 1/100\n",
      "10/10 [==============================] - 14s 1s/step - loss: 3.4220 - accuracy: 0.0200 - val_loss: 3.2113 - val_accuracy: 0.0400\n",
      "10/10 [==============================] - 14s 1s/step - loss: 3.4220 - accuracy: 0.0200 - val_loss: 3.2113 - val_accuracy: 0.0400\n",
      "Epoch 2/100\n",
      "Epoch 2/100\n",
      "10/10 [==============================] - 11s 1s/step - loss: 3.2077 - accuracy: 0.0600 - val_loss: 3.1740 - val_accuracy: 0.0400\n",
      "10/10 [==============================] - 11s 1s/step - loss: 3.2077 - accuracy: 0.0600 - val_loss: 3.1740 - val_accuracy: 0.0400\n",
      "Epoch 3/100\n",
      "Epoch 3/100\n",
      "10/10 [==============================] - 11s 1s/step - loss: 3.1674 - accuracy: 0.0950 - val_loss: 3.0863 - val_accuracy: 0.0800\n",
      "10/10 [==============================] - 11s 1s/step - loss: 3.1674 - accuracy: 0.0950 - val_loss: 3.0863 - val_accuracy: 0.0800\n",
      "Epoch 4/100\n",
      "Epoch 4/100\n",
      "10/10 [==============================] - 12s 1s/step - loss: 3.0875 - accuracy: 0.0800 - val_loss: 2.9506 - val_accuracy: 0.0800\n",
      "10/10 [==============================] - 12s 1s/step - loss: 3.0875 - accuracy: 0.0800 - val_loss: 2.9506 - val_accuracy: 0.0800\n",
      "Epoch 5/100\n",
      "Epoch 5/100\n",
      "10/10 [==============================] - 11s 1s/step - loss: 3.0438 - accuracy: 0.1000 - val_loss: 2.8442 - val_accuracy: 0.1800\n",
      "10/10 [==============================] - 11s 1s/step - loss: 3.0438 - accuracy: 0.1000 - val_loss: 2.8442 - val_accuracy: 0.1800\n",
      "Epoch 6/100\n",
      "Epoch 6/100\n",
      "10/10 [==============================] - 10s 1s/step - loss: 2.9719 - accuracy: 0.1050 - val_loss: 2.8424 - val_accuracy: 0.2000\n",
      "10/10 [==============================] - 10s 1s/step - loss: 2.9719 - accuracy: 0.1050 - val_loss: 2.8424 - val_accuracy: 0.2000\n",
      "Epoch 7/100\n",
      "Epoch 7/100\n",
      "10/10 [==============================] - 10s 1s/step - loss: 2.8726 - accuracy: 0.1600 - val_loss: 2.6800 - val_accuracy: 0.2200\n",
      "10/10 [==============================] - 10s 1s/step - loss: 2.8726 - accuracy: 0.1600 - val_loss: 2.6800 - val_accuracy: 0.2200\n",
      "Epoch 8/100\n",
      "Epoch 8/100\n",
      "10/10 [==============================] - 12s 1s/step - loss: 2.7859 - accuracy: 0.1850 - val_loss: 2.5451 - val_accuracy: 0.2400\n",
      "10/10 [==============================] - 12s 1s/step - loss: 2.7859 - accuracy: 0.1850 - val_loss: 2.5451 - val_accuracy: 0.2400\n",
      "Epoch 9/100\n",
      "Epoch 9/100\n",
      "10/10 [==============================] - 13s 1s/step - loss: 2.7023 - accuracy: 0.1700 - val_loss: 2.4945 - val_accuracy: 0.2800\n",
      "10/10 [==============================] - 13s 1s/step - loss: 2.7023 - accuracy: 0.1700 - val_loss: 2.4945 - val_accuracy: 0.2800\n",
      "Epoch 10/100\n",
      "Epoch 10/100\n",
      "10/10 [==============================] - 11s 1s/step - loss: 2.5840 - accuracy: 0.2200 - val_loss: 2.3813 - val_accuracy: 0.2800\n",
      "10/10 [==============================] - 11s 1s/step - loss: 2.5840 - accuracy: 0.2200 - val_loss: 2.3813 - val_accuracy: 0.2800\n",
      "Epoch 11/100\n",
      "Epoch 11/100\n",
      "10/10 [==============================] - 14s 1s/step - loss: 2.4136 - accuracy: 0.3000 - val_loss: 2.2019 - val_accuracy: 0.3200\n",
      "10/10 [==============================] - 14s 1s/step - loss: 2.4136 - accuracy: 0.3000 - val_loss: 2.2019 - val_accuracy: 0.3200\n",
      "Epoch 12/100\n",
      "Epoch 12/100\n",
      "10/10 [==============================] - 11s 1s/step - loss: 2.3564 - accuracy: 0.2650 - val_loss: 2.2146 - val_accuracy: 0.3000\n",
      "10/10 [==============================] - 11s 1s/step - loss: 2.3564 - accuracy: 0.2650 - val_loss: 2.2146 - val_accuracy: 0.3000\n",
      "Epoch 13/100\n",
      "Epoch 13/100\n",
      "10/10 [==============================] - 11s 1s/step - loss: 2.2031 - accuracy: 0.3600 - val_loss: 1.8190 - val_accuracy: 0.4400\n",
      "10/10 [==============================] - 11s 1s/step - loss: 2.2031 - accuracy: 0.3600 - val_loss: 1.8190 - val_accuracy: 0.4400\n",
      "Epoch 14/100\n",
      "Epoch 14/100\n",
      "10/10 [==============================] - 12s 1s/step - loss: 2.1395 - accuracy: 0.3400 - val_loss: 1.7810 - val_accuracy: 0.4200\n",
      "10/10 [==============================] - 12s 1s/step - loss: 2.1395 - accuracy: 0.3400 - val_loss: 1.7810 - val_accuracy: 0.4200\n",
      "Epoch 15/100\n",
      "Epoch 15/100\n",
      "10/10 [==============================] - 11s 1s/step - loss: 2.0430 - accuracy: 0.3500 - val_loss: 1.8247 - val_accuracy: 0.4000\n",
      "10/10 [==============================] - 11s 1s/step - loss: 2.0430 - accuracy: 0.3500 - val_loss: 1.8247 - val_accuracy: 0.4000\n",
      "Epoch 16/100\n",
      "Epoch 16/100\n",
      "10/10 [==============================] - 10s 1s/step - loss: 1.9941 - accuracy: 0.3750 - val_loss: 1.7505 - val_accuracy: 0.4600\n",
      "10/10 [==============================] - 10s 1s/step - loss: 1.9941 - accuracy: 0.3750 - val_loss: 1.7505 - val_accuracy: 0.4600\n",
      "Epoch 17/100\n",
      "Epoch 17/100\n",
      "10/10 [==============================] - 10s 1s/step - loss: 1.8802 - accuracy: 0.4200 - val_loss: 1.5584 - val_accuracy: 0.5400\n",
      "10/10 [==============================] - 10s 1s/step - loss: 1.8802 - accuracy: 0.4200 - val_loss: 1.5584 - val_accuracy: 0.5400\n",
      "Epoch 18/100\n",
      "Epoch 18/100\n",
      "10/10 [==============================] - 10s 1s/step - loss: 1.6980 - accuracy: 0.4300 - val_loss: 1.9135 - val_accuracy: 0.4000\n",
      "10/10 [==============================] - 10s 1s/step - loss: 1.6980 - accuracy: 0.4300 - val_loss: 1.9135 - val_accuracy: 0.4000\n",
      "Epoch 19/100\n",
      "Epoch 19/100\n",
      "10/10 [==============================] - 11s 1s/step - loss: 1.7309 - accuracy: 0.4600 - val_loss: 1.6783 - val_accuracy: 0.4800\n",
      "10/10 [==============================] - 11s 1s/step - loss: 1.7309 - accuracy: 0.4600 - val_loss: 1.6783 - val_accuracy: 0.4800\n",
      "Epoch 20/100\n",
      "Epoch 20/100\n",
      "10/10 [==============================] - 9s 972ms/step - loss: 1.6374 - accuracy: 0.4900 - val_loss: 1.4616 - val_accuracy: 0.5400\n",
      "10/10 [==============================] - 9s 972ms/step - loss: 1.6374 - accuracy: 0.4900 - val_loss: 1.4616 - val_accuracy: 0.5400\n",
      "Epoch 21/100\n",
      "Epoch 21/100\n",
      "10/10 [==============================] - 11s 1s/step - loss: 1.5337 - accuracy: 0.5600 - val_loss: 1.5022 - val_accuracy: 0.5400\n",
      "10/10 [==============================] - 11s 1s/step - loss: 1.5337 - accuracy: 0.5600 - val_loss: 1.5022 - val_accuracy: 0.5400\n",
      "Epoch 22/100\n",
      "Epoch 22/100\n",
      "10/10 [==============================] - 11s 1s/step - loss: 1.6432 - accuracy: 0.4700 - val_loss: 1.3906 - val_accuracy: 0.5400\n",
      "10/10 [==============================] - 11s 1s/step - loss: 1.6432 - accuracy: 0.4700 - val_loss: 1.3906 - val_accuracy: 0.5400\n",
      "Epoch 23/100\n",
      "Epoch 23/100\n",
      "10/10 [==============================] - 12s 1s/step - loss: 1.5644 - accuracy: 0.4650 - val_loss: 1.3463 - val_accuracy: 0.5600\n",
      "10/10 [==============================] - 12s 1s/step - loss: 1.5644 - accuracy: 0.4650 - val_loss: 1.3463 - val_accuracy: 0.5600\n",
      "Epoch 24/100\n",
      "Epoch 24/100\n",
      "10/10 [==============================] - 10s 1s/step - loss: 1.5792 - accuracy: 0.5050 - val_loss: 1.5274 - val_accuracy: 0.5000\n",
      "10/10 [==============================] - 10s 1s/step - loss: 1.5792 - accuracy: 0.5050 - val_loss: 1.5274 - val_accuracy: 0.5000\n",
      "Epoch 25/100\n",
      "Epoch 25/100\n",
      "10/10 [==============================] - 12s 1s/step - loss: 1.4514 - accuracy: 0.5650 - val_loss: 1.2294 - val_accuracy: 0.6200\n",
      "10/10 [==============================] - 12s 1s/step - loss: 1.4514 - accuracy: 0.5650 - val_loss: 1.2294 - val_accuracy: 0.6200\n",
      "Epoch 26/100\n",
      "Epoch 26/100\n",
      "10/10 [==============================] - 10s 1s/step - loss: 1.3569 - accuracy: 0.5750 - val_loss: 1.9146 - val_accuracy: 0.4000\n",
      "10/10 [==============================] - 10s 1s/step - loss: 1.3569 - accuracy: 0.5750 - val_loss: 1.9146 - val_accuracy: 0.4000\n",
      "Epoch 27/100\n",
      "Epoch 27/100\n",
      "10/10 [==============================] - 11s 1s/step - loss: 1.3332 - accuracy: 0.6100 - val_loss: 1.2977 - val_accuracy: 0.6200\n",
      "10/10 [==============================] - 11s 1s/step - loss: 1.3332 - accuracy: 0.6100 - val_loss: 1.2977 - val_accuracy: 0.6200\n",
      "Epoch 28/100\n",
      "Epoch 28/100\n",
      "10/10 [==============================] - 11s 998ms/step - loss: 1.2535 - accuracy: 0.6050 - val_loss: 1.4199 - val_accuracy: 0.5400\n",
      "10/10 [==============================] - 11s 998ms/step - loss: 1.2535 - accuracy: 0.6050 - val_loss: 1.4199 - val_accuracy: 0.5400\n",
      "Epoch 29/100\n",
      "Epoch 29/100\n",
      "10/10 [==============================] - 11s 1s/step - loss: 1.3124 - accuracy: 0.5750 - val_loss: 1.6481 - val_accuracy: 0.4000\n",
      "10/10 [==============================] - 11s 1s/step - loss: 1.3124 - accuracy: 0.5750 - val_loss: 1.6481 - val_accuracy: 0.4000\n",
      "Epoch 30/100\n",
      "Epoch 30/100\n",
      "10/10 [==============================] - 11s 1s/step - loss: 1.4436 - accuracy: 0.5800 - val_loss: 1.1513 - val_accuracy: 0.7000\n",
      "10/10 [==============================] - 11s 1s/step - loss: 1.4436 - accuracy: 0.5800 - val_loss: 1.1513 - val_accuracy: 0.7000\n",
      "Epoch 31/100\n",
      "Epoch 31/100\n",
      "10/10 [==============================] - 10s 1s/step - loss: 1.1565 - accuracy: 0.6350 - val_loss: 1.1636 - val_accuracy: 0.6600\n",
      "10/10 [==============================] - 10s 1s/step - loss: 1.1565 - accuracy: 0.6350 - val_loss: 1.1636 - val_accuracy: 0.6600\n",
      "Epoch 32/100\n",
      "Epoch 32/100\n",
      "10/10 [==============================] - 11s 1s/step - loss: 1.1549 - accuracy: 0.6500 - val_loss: 1.5613 - val_accuracy: 0.5600\n",
      "10/10 [==============================] - 11s 1s/step - loss: 1.1549 - accuracy: 0.6500 - val_loss: 1.5613 - val_accuracy: 0.5600\n",
      "Epoch 33/100\n",
      "Epoch 33/100\n",
      "10/10 [==============================] - 10s 1s/step - loss: 1.1586 - accuracy: 0.6050 - val_loss: 1.3796 - val_accuracy: 0.6400\n",
      "10/10 [==============================] - 10s 1s/step - loss: 1.1586 - accuracy: 0.6050 - val_loss: 1.3796 - val_accuracy: 0.6400\n",
      "Epoch 34/100\n",
      "Epoch 34/100\n",
      "10/10 [==============================] - 11s 1s/step - loss: 1.0569 - accuracy: 0.6650 - val_loss: 1.2727 - val_accuracy: 0.6200\n",
      "10/10 [==============================] - 11s 1s/step - loss: 1.0569 - accuracy: 0.6650 - val_loss: 1.2727 - val_accuracy: 0.6200\n",
      "Epoch 35/100\n",
      "Epoch 35/100\n",
      "10/10 [==============================] - 11s 1s/step - loss: 1.0832 - accuracy: 0.6850 - val_loss: 1.3739 - val_accuracy: 0.6600\n",
      "10/10 [==============================] - 11s 1s/step - loss: 1.0832 - accuracy: 0.6850 - val_loss: 1.3739 - val_accuracy: 0.6600\n",
      "Epoch 36/100\n",
      "Epoch 36/100\n",
      "10/10 [==============================] - 10s 1s/step - loss: 1.0306 - accuracy: 0.6700 - val_loss: 1.4777 - val_accuracy: 0.5800\n",
      "10/10 [==============================] - 10s 1s/step - loss: 1.0306 - accuracy: 0.6700 - val_loss: 1.4777 - val_accuracy: 0.5800\n",
      "Epoch 37/100\n",
      "Epoch 37/100\n",
      "10/10 [==============================] - 10s 998ms/step - loss: 0.9817 - accuracy: 0.7000 - val_loss: 1.0659 - val_accuracy: 0.7000\n",
      "10/10 [==============================] - 10s 998ms/step - loss: 0.9817 - accuracy: 0.7000 - val_loss: 1.0659 - val_accuracy: 0.7000\n",
      "Epoch 38/100\n",
      "Epoch 38/100\n",
      "10/10 [==============================] - 10s 967ms/step - loss: 0.9589 - accuracy: 0.7100 - val_loss: 0.9839 - val_accuracy: 0.7800\n",
      "10/10 [==============================] - 10s 967ms/step - loss: 0.9589 - accuracy: 0.7100 - val_loss: 0.9839 - val_accuracy: 0.7800\n",
      "Epoch 39/100\n",
      "Epoch 39/100\n",
      "10/10 [==============================] - 11s 1s/step - loss: 1.0099 - accuracy: 0.7000 - val_loss: 1.1037 - val_accuracy: 0.7000\n",
      "10/10 [==============================] - 11s 1s/step - loss: 1.0099 - accuracy: 0.7000 - val_loss: 1.1037 - val_accuracy: 0.7000\n",
      "Epoch 40/100\n",
      "Epoch 40/100\n",
      "10/10 [==============================] - 10s 994ms/step - loss: 0.9599 - accuracy: 0.7250 - val_loss: 1.7853 - val_accuracy: 0.5400\n",
      "10/10 [==============================] - 10s 994ms/step - loss: 0.9599 - accuracy: 0.7250 - val_loss: 1.7853 - val_accuracy: 0.5400\n",
      "Epoch 41/100\n",
      "Epoch 41/100\n",
      "10/10 [==============================] - 9s 966ms/step - loss: 0.9382 - accuracy: 0.7500 - val_loss: 0.9716 - val_accuracy: 0.7800\n",
      "10/10 [==============================] - 9s 966ms/step - loss: 0.9382 - accuracy: 0.7500 - val_loss: 0.9716 - val_accuracy: 0.7800\n",
      "Epoch 42/100\n",
      "Epoch 42/100\n",
      "10/10 [==============================] - 12s 1s/step - loss: 0.9490 - accuracy: 0.6550 - val_loss: 0.9598 - val_accuracy: 0.7600\n",
      "10/10 [==============================] - 12s 1s/step - loss: 0.9490 - accuracy: 0.6550 - val_loss: 0.9598 - val_accuracy: 0.7600\n",
      "Epoch 43/100\n",
      "Epoch 43/100\n",
      "10/10 [==============================] - 12s 1s/step - loss: 0.9959 - accuracy: 0.7100 - val_loss: 1.3531 - val_accuracy: 0.6400\n",
      "10/10 [==============================] - 12s 1s/step - loss: 0.9959 - accuracy: 0.7100 - val_loss: 1.3531 - val_accuracy: 0.6400\n",
      "Epoch 44/100\n",
      "Epoch 44/100\n",
      "10/10 [==============================] - 11s 1s/step - loss: 0.9692 - accuracy: 0.7050 - val_loss: 1.4371 - val_accuracy: 0.6400\n",
      "10/10 [==============================] - 11s 1s/step - loss: 0.9692 - accuracy: 0.7050 - val_loss: 1.4371 - val_accuracy: 0.6400\n",
      "Epoch 45/100\n",
      "Epoch 45/100\n",
      "10/10 [==============================] - 11s 1s/step - loss: 0.9241 - accuracy: 0.7650 - val_loss: 1.0315 - val_accuracy: 0.6800\n",
      "10/10 [==============================] - 11s 1s/step - loss: 0.9241 - accuracy: 0.7650 - val_loss: 1.0315 - val_accuracy: 0.6800\n",
      "Epoch 46/100\n",
      "Epoch 46/100\n",
      "10/10 [==============================] - 13s 1s/step - loss: 0.7934 - accuracy: 0.7450 - val_loss: 1.0357 - val_accuracy: 0.7600\n",
      "10/10 [==============================] - 13s 1s/step - loss: 0.7934 - accuracy: 0.7450 - val_loss: 1.0357 - val_accuracy: 0.7600\n",
      "Epoch 47/100\n",
      "Epoch 47/100\n",
      "10/10 [==============================] - 11s 1s/step - loss: 0.8339 - accuracy: 0.7200 - val_loss: 1.0675 - val_accuracy: 0.7200\n",
      "10/10 [==============================] - 11s 1s/step - loss: 0.8339 - accuracy: 0.7200 - val_loss: 1.0675 - val_accuracy: 0.7200\n",
      "Epoch 48/100\n",
      "Epoch 48/100\n",
      "10/10 [==============================] - 11s 1s/step - loss: 0.6703 - accuracy: 0.7750 - val_loss: 1.1027 - val_accuracy: 0.7800\n",
      "10/10 [==============================] - 11s 1s/step - loss: 0.6703 - accuracy: 0.7750 - val_loss: 1.1027 - val_accuracy: 0.7800\n",
      "Epoch 49/100\n",
      "Epoch 49/100\n",
      "10/10 [==============================] - 12s 1s/step - loss: 0.7021 - accuracy: 0.7650 - val_loss: 0.9163 - val_accuracy: 0.7600\n",
      "10/10 [==============================] - 12s 1s/step - loss: 0.7021 - accuracy: 0.7650 - val_loss: 0.9163 - val_accuracy: 0.7600\n",
      "Epoch 50/100\n",
      "Epoch 50/100\n",
      "10/10 [==============================] - 12s 1s/step - loss: 0.7834 - accuracy: 0.7600 - val_loss: 1.4363 - val_accuracy: 0.5800\n",
      "10/10 [==============================] - 12s 1s/step - loss: 0.7834 - accuracy: 0.7600 - val_loss: 1.4363 - val_accuracy: 0.5800\n",
      "Epoch 51/100\n",
      "Epoch 51/100\n",
      "10/10 [==============================] - 10s 1s/step - loss: 0.7577 - accuracy: 0.7600 - val_loss: 1.2881 - val_accuracy: 0.6600\n",
      "10/10 [==============================] - 10s 1s/step - loss: 0.7577 - accuracy: 0.7600 - val_loss: 1.2881 - val_accuracy: 0.6600\n",
      "Epoch 52/100\n",
      "Epoch 52/100\n",
      "10/10 [==============================] - 11s 1s/step - loss: 0.7083 - accuracy: 0.7950 - val_loss: 1.0731 - val_accuracy: 0.6800\n",
      "10/10 [==============================] - 11s 1s/step - loss: 0.7083 - accuracy: 0.7950 - val_loss: 1.0731 - val_accuracy: 0.6800\n",
      "Epoch 53/100\n",
      "Epoch 53/100\n",
      "10/10 [==============================] - 10s 1s/step - loss: 0.7557 - accuracy: 0.7900 - val_loss: 1.1087 - val_accuracy: 0.7000\n",
      "10/10 [==============================] - 10s 1s/step - loss: 0.7557 - accuracy: 0.7900 - val_loss: 1.1087 - val_accuracy: 0.7000\n",
      "Epoch 54/100\n",
      "Epoch 54/100\n",
      "10/10 [==============================] - 11s 980ms/step - loss: 0.7087 - accuracy: 0.7700 - val_loss: 0.9224 - val_accuracy: 0.7600\n",
      "10/10 [==============================] - 11s 980ms/step - loss: 0.7087 - accuracy: 0.7700 - val_loss: 0.9224 - val_accuracy: 0.7600\n",
      "Epoch 55/100\n",
      "Epoch 55/100\n",
      "10/10 [==============================] - 11s 1s/step - loss: 0.8217 - accuracy: 0.7750 - val_loss: 0.8895 - val_accuracy: 0.7200\n",
      "10/10 [==============================] - 11s 1s/step - loss: 0.8217 - accuracy: 0.7750 - val_loss: 0.8895 - val_accuracy: 0.7200\n",
      "Epoch 56/100\n",
      "Epoch 56/100\n",
      "10/10 [==============================] - 11s 1s/step - loss: 0.6982 - accuracy: 0.7450 - val_loss: 1.0243 - val_accuracy: 0.7200\n",
      "10/10 [==============================] - 11s 1s/step - loss: 0.6982 - accuracy: 0.7450 - val_loss: 1.0243 - val_accuracy: 0.7200\n",
      "Epoch 57/100\n",
      "Epoch 57/100\n",
      "10/10 [==============================] - 14s 1s/step - loss: 0.7047 - accuracy: 0.7750 - val_loss: 1.1886 - val_accuracy: 0.7400\n",
      "10/10 [==============================] - 14s 1s/step - loss: 0.7047 - accuracy: 0.7750 - val_loss: 1.1886 - val_accuracy: 0.7400\n",
      "Epoch 58/100\n",
      "Epoch 58/100\n",
      "10/10 [==============================] - 11s 1s/step - loss: 0.6403 - accuracy: 0.8100 - val_loss: 0.8967 - val_accuracy: 0.7600\n",
      "10/10 [==============================] - 11s 1s/step - loss: 0.6403 - accuracy: 0.8100 - val_loss: 0.8967 - val_accuracy: 0.7600\n",
      "Epoch 59/100\n",
      "Epoch 59/100\n",
      "10/10 [==============================] - 10s 1s/step - loss: 0.6412 - accuracy: 0.8350 - val_loss: 1.0050 - val_accuracy: 0.7400\n",
      "10/10 [==============================] - 10s 1s/step - loss: 0.6412 - accuracy: 0.8350 - val_loss: 1.0050 - val_accuracy: 0.7400\n",
      "Epoch 60/100\n",
      "Epoch 60/100\n",
      "10/10 [==============================] - 11s 1s/step - loss: 0.6737 - accuracy: 0.7850 - val_loss: 1.0258 - val_accuracy: 0.7200\n",
      "10/10 [==============================] - 11s 1s/step - loss: 0.6737 - accuracy: 0.7850 - val_loss: 1.0258 - val_accuracy: 0.7200\n",
      "Epoch 61/100\n",
      "Epoch 61/100\n",
      "10/10 [==============================] - 11s 1s/step - loss: 0.5969 - accuracy: 0.7950 - val_loss: 1.2545 - val_accuracy: 0.6800\n",
      "10/10 [==============================] - 11s 1s/step - loss: 0.5969 - accuracy: 0.7950 - val_loss: 1.2545 - val_accuracy: 0.6800\n",
      "Epoch 62/100\n",
      "Epoch 62/100\n",
      "10/10 [==============================] - 11s 1s/step - loss: 0.6875 - accuracy: 0.7850 - val_loss: 0.9998 - val_accuracy: 0.7600\n",
      "10/10 [==============================] - 11s 1s/step - loss: 0.6875 - accuracy: 0.7850 - val_loss: 0.9998 - val_accuracy: 0.7600\n",
      "Epoch 63/100\n",
      "Epoch 63/100\n",
      "10/10 [==============================] - 10s 1s/step - loss: 0.5847 - accuracy: 0.8300 - val_loss: 0.9881 - val_accuracy: 0.7400\n",
      "10/10 [==============================] - 10s 1s/step - loss: 0.5847 - accuracy: 0.8300 - val_loss: 0.9881 - val_accuracy: 0.7400\n",
      "Epoch 64/100\n",
      "Epoch 64/100\n",
      "10/10 [==============================] - 11s 1s/step - loss: 0.4820 - accuracy: 0.8350 - val_loss: 0.9732 - val_accuracy: 0.7800\n",
      "10/10 [==============================] - 11s 1s/step - loss: 0.4820 - accuracy: 0.8350 - val_loss: 0.9732 - val_accuracy: 0.7800\n",
      "Epoch 65/100\n",
      "Epoch 65/100\n",
      "10/10 [==============================] - 10s 987ms/step - loss: 0.4720 - accuracy: 0.8600 - val_loss: 1.0054 - val_accuracy: 0.7600\n",
      "10/10 [==============================] - 10s 987ms/step - loss: 0.4720 - accuracy: 0.8600 - val_loss: 1.0054 - val_accuracy: 0.7600\n",
      "Epoch 66/100\n",
      "Epoch 66/100\n",
      "10/10 [==============================] - 11s 1s/step - loss: 0.5307 - accuracy: 0.8400 - val_loss: 1.1203 - val_accuracy: 0.7200\n",
      "10/10 [==============================] - 11s 1s/step - loss: 0.5307 - accuracy: 0.8400 - val_loss: 1.1203 - val_accuracy: 0.7200\n",
      "Epoch 67/100\n",
      "Epoch 67/100\n",
      "10/10 [==============================] - 13s 1s/step - loss: 0.6236 - accuracy: 0.7900 - val_loss: 1.2211 - val_accuracy: 0.7200\n",
      "10/10 [==============================] - 13s 1s/step - loss: 0.6236 - accuracy: 0.7900 - val_loss: 1.2211 - val_accuracy: 0.7200\n",
      "Epoch 68/100\n",
      "Epoch 68/100\n",
      "10/10 [==============================] - 11s 1s/step - loss: 0.5260 - accuracy: 0.8300 - val_loss: 0.8246 - val_accuracy: 0.7800\n",
      "10/10 [==============================] - 11s 1s/step - loss: 0.5260 - accuracy: 0.8300 - val_loss: 0.8246 - val_accuracy: 0.7800\n",
      "Epoch 69/100\n",
      "Epoch 69/100\n",
      "10/10 [==============================] - 10s 1s/step - loss: 0.5098 - accuracy: 0.8400 - val_loss: 0.8680 - val_accuracy: 0.8000\n",
      "10/10 [==============================] - 10s 1s/step - loss: 0.5098 - accuracy: 0.8400 - val_loss: 0.8680 - val_accuracy: 0.8000\n",
      "Epoch 70/100\n",
      "Epoch 70/100\n",
      "10/10 [==============================] - 11s 1s/step - loss: 0.4725 - accuracy: 0.8700 - val_loss: 1.3001 - val_accuracy: 0.6400\n",
      "10/10 [==============================] - 11s 1s/step - loss: 0.4725 - accuracy: 0.8700 - val_loss: 1.3001 - val_accuracy: 0.6400\n",
      "Epoch 71/100\n",
      "Epoch 71/100\n",
      "10/10 [==============================] - 13s 1s/step - loss: 0.5150 - accuracy: 0.8200 - val_loss: 0.8869 - val_accuracy: 0.7600\n",
      "10/10 [==============================] - 13s 1s/step - loss: 0.5150 - accuracy: 0.8200 - val_loss: 0.8869 - val_accuracy: 0.7600\n",
      "Epoch 72/100\n",
      "Epoch 72/100\n",
      "10/10 [==============================] - 12s 1s/step - loss: 0.4525 - accuracy: 0.8750 - val_loss: 0.6923 - val_accuracy: 0.8200\n",
      "10/10 [==============================] - 12s 1s/step - loss: 0.4525 - accuracy: 0.8750 - val_loss: 0.6923 - val_accuracy: 0.8200\n",
      "Epoch 73/100\n",
      "Epoch 73/100\n",
      "10/10 [==============================] - 12s 1s/step - loss: 0.5981 - accuracy: 0.7900 - val_loss: 1.3672 - val_accuracy: 0.6400\n",
      "10/10 [==============================] - 12s 1s/step - loss: 0.5981 - accuracy: 0.7900 - val_loss: 1.3672 - val_accuracy: 0.6400\n",
      "Epoch 74/100\n",
      "Epoch 74/100\n",
      "10/10 [==============================] - 14s 1s/step - loss: 0.5459 - accuracy: 0.8300 - val_loss: 1.0297 - val_accuracy: 0.7000\n",
      "10/10 [==============================] - 14s 1s/step - loss: 0.5459 - accuracy: 0.8300 - val_loss: 1.0297 - val_accuracy: 0.7000\n",
      "Epoch 75/100\n",
      "Epoch 75/100\n",
      "10/10 [==============================] - 14s 1s/step - loss: 0.4129 - accuracy: 0.8550 - val_loss: 0.9480 - val_accuracy: 0.7200\n",
      "10/10 [==============================] - 14s 1s/step - loss: 0.4129 - accuracy: 0.8550 - val_loss: 0.9480 - val_accuracy: 0.7200\n",
      "Epoch 76/100\n",
      "Epoch 76/100\n",
      "10/10 [==============================] - 10s 1s/step - loss: 0.4774 - accuracy: 0.8650 - val_loss: 1.0155 - val_accuracy: 0.7200\n",
      "10/10 [==============================] - 10s 1s/step - loss: 0.4774 - accuracy: 0.8650 - val_loss: 1.0155 - val_accuracy: 0.7200\n",
      "Epoch 77/100\n",
      "Epoch 77/100\n",
      "10/10 [==============================] - 12s 1s/step - loss: 0.4614 - accuracy: 0.8850 - val_loss: 0.9915 - val_accuracy: 0.7400\n",
      "10/10 [==============================] - 12s 1s/step - loss: 0.4614 - accuracy: 0.8850 - val_loss: 0.9915 - val_accuracy: 0.7400\n",
      "Epoch 78/100\n",
      "Epoch 78/100\n",
      "10/10 [==============================] - 11s 1s/step - loss: 0.5056 - accuracy: 0.8500 - val_loss: 1.3911 - val_accuracy: 0.6600\n",
      "10/10 [==============================] - 11s 1s/step - loss: 0.5056 - accuracy: 0.8500 - val_loss: 1.3911 - val_accuracy: 0.6600\n",
      "Epoch 79/100\n",
      "Epoch 79/100\n",
      "10/10 [==============================] - 12s 1s/step - loss: 0.3977 - accuracy: 0.8700 - val_loss: 1.2370 - val_accuracy: 0.6800\n",
      "10/10 [==============================] - 12s 1s/step - loss: 0.3977 - accuracy: 0.8700 - val_loss: 1.2370 - val_accuracy: 0.6800\n",
      "Epoch 80/100\n",
      "Epoch 80/100\n",
      "10/10 [==============================] - 12s 1s/step - loss: 0.5074 - accuracy: 0.8450 - val_loss: 1.1232 - val_accuracy: 0.7600\n",
      "10/10 [==============================] - 12s 1s/step - loss: 0.5074 - accuracy: 0.8450 - val_loss: 1.1232 - val_accuracy: 0.7600\n",
      "Epoch 81/100\n",
      "Epoch 81/100\n",
      "10/10 [==============================] - 11s 1s/step - loss: 0.3177 - accuracy: 0.9250 - val_loss: 1.1598 - val_accuracy: 0.7200\n",
      "10/10 [==============================] - 11s 1s/step - loss: 0.3177 - accuracy: 0.9250 - val_loss: 1.1598 - val_accuracy: 0.7200\n",
      "Epoch 82/100\n",
      "Epoch 82/100\n",
      "10/10 [==============================] - 10s 1s/step - loss: 0.4414 - accuracy: 0.8750 - val_loss: 1.1418 - val_accuracy: 0.7200\n",
      "10/10 [==============================] - 10s 1s/step - loss: 0.4414 - accuracy: 0.8750 - val_loss: 1.1418 - val_accuracy: 0.7200\n",
      "Epoch 83/100\n",
      "Epoch 83/100\n",
      "10/10 [==============================] - 12s 1s/step - loss: 0.3348 - accuracy: 0.9150 - val_loss: 1.1822 - val_accuracy: 0.7200\n",
      "10/10 [==============================] - 12s 1s/step - loss: 0.3348 - accuracy: 0.9150 - val_loss: 1.1822 - val_accuracy: 0.7200\n",
      "Epoch 84/100\n",
      "Epoch 84/100\n",
      "10/10 [==============================] - 11s 994ms/step - loss: 0.4366 - accuracy: 0.8650 - val_loss: 0.8687 - val_accuracy: 0.7800\n",
      "10/10 [==============================] - 11s 994ms/step - loss: 0.4366 - accuracy: 0.8650 - val_loss: 0.8687 - val_accuracy: 0.7800\n",
      "Epoch 85/100\n",
      "Epoch 85/100\n",
      "10/10 [==============================] - 10s 984ms/step - loss: 0.5011 - accuracy: 0.8400 - val_loss: 0.8365 - val_accuracy: 0.7800\n",
      "10/10 [==============================] - 10s 984ms/step - loss: 0.5011 - accuracy: 0.8400 - val_loss: 0.8365 - val_accuracy: 0.7800\n",
      "Epoch 86/100\n",
      "Epoch 86/100\n",
      "10/10 [==============================] - 11s 1s/step - loss: 0.5380 - accuracy: 0.8200 - val_loss: 1.4532 - val_accuracy: 0.6600\n",
      "10/10 [==============================] - 11s 1s/step - loss: 0.5380 - accuracy: 0.8200 - val_loss: 1.4532 - val_accuracy: 0.6600\n",
      "Epoch 87/100\n",
      "Epoch 87/100\n",
      "10/10 [==============================] - 12s 1s/step - loss: 0.4220 - accuracy: 0.8700 - val_loss: 1.1114 - val_accuracy: 0.6600\n",
      "10/10 [==============================] - 12s 1s/step - loss: 0.4220 - accuracy: 0.8700 - val_loss: 1.1114 - val_accuracy: 0.6600\n",
      "Epoch 88/100\n",
      "Epoch 88/100\n",
      "10/10 [==============================] - 11s 1s/step - loss: 0.4082 - accuracy: 0.8850 - val_loss: 0.8567 - val_accuracy: 0.8000\n",
      "10/10 [==============================] - 11s 1s/step - loss: 0.4082 - accuracy: 0.8850 - val_loss: 0.8567 - val_accuracy: 0.8000\n",
      "Epoch 89/100\n",
      "Epoch 89/100\n",
      "10/10 [==============================] - 12s 1s/step - loss: 0.4464 - accuracy: 0.8900 - val_loss: 0.7118 - val_accuracy: 0.8600\n",
      "10/10 [==============================] - 12s 1s/step - loss: 0.4464 - accuracy: 0.8900 - val_loss: 0.7118 - val_accuracy: 0.8600\n",
      "Epoch 90/100\n",
      "Epoch 90/100\n",
      "10/10 [==============================] - 12s 1s/step - loss: 0.3952 - accuracy: 0.9050 - val_loss: 0.9386 - val_accuracy: 0.7800\n",
      "10/10 [==============================] - 12s 1s/step - loss: 0.3952 - accuracy: 0.9050 - val_loss: 0.9386 - val_accuracy: 0.7800\n",
      "Epoch 91/100\n",
      "Epoch 91/100\n",
      "10/10 [==============================] - 12s 1s/step - loss: 0.3904 - accuracy: 0.9000 - val_loss: 0.9044 - val_accuracy: 0.8000\n",
      "10/10 [==============================] - 12s 1s/step - loss: 0.3904 - accuracy: 0.9000 - val_loss: 0.9044 - val_accuracy: 0.8000\n",
      "Epoch 92/100\n",
      "Epoch 92/100\n",
      "10/10 [==============================] - 12s 1s/step - loss: 0.4268 - accuracy: 0.8350 - val_loss: 0.7853 - val_accuracy: 0.7400\n",
      "10/10 [==============================] - 12s 1s/step - loss: 0.4268 - accuracy: 0.8350 - val_loss: 0.7853 - val_accuracy: 0.7400\n",
      "Epoch 93/100\n",
      "Epoch 93/100\n",
      "10/10 [==============================] - 12s 1s/step - loss: 0.4565 - accuracy: 0.8600 - val_loss: 1.0091 - val_accuracy: 0.7600\n",
      "10/10 [==============================] - 12s 1s/step - loss: 0.4565 - accuracy: 0.8600 - val_loss: 1.0091 - val_accuracy: 0.7600\n",
      "Epoch 94/100\n",
      "Epoch 94/100\n",
      "10/10 [==============================] - 12s 1s/step - loss: 0.2734 - accuracy: 0.9250 - val_loss: 0.8724 - val_accuracy: 0.7600\n",
      "10/10 [==============================] - 12s 1s/step - loss: 0.2734 - accuracy: 0.9250 - val_loss: 0.8724 - val_accuracy: 0.7600\n",
      "Epoch 95/100\n",
      "Epoch 95/100\n",
      "10/10 [==============================] - 10s 961ms/step - loss: 0.4832 - accuracy: 0.8600 - val_loss: 0.6984 - val_accuracy: 0.8400\n",
      "10/10 [==============================] - 10s 961ms/step - loss: 0.4832 - accuracy: 0.8600 - val_loss: 0.6984 - val_accuracy: 0.8400\n",
      "Epoch 96/100\n",
      "Epoch 96/100\n",
      "10/10 [==============================] - 10s 1s/step - loss: 0.4114 - accuracy: 0.8900 - val_loss: 0.6700 - val_accuracy: 0.8400\n",
      "10/10 [==============================] - 10s 1s/step - loss: 0.4114 - accuracy: 0.8900 - val_loss: 0.6700 - val_accuracy: 0.8400\n",
      "Epoch 97/100\n",
      "Epoch 97/100\n",
      "10/10 [==============================] - 10s 1s/step - loss: 0.4699 - accuracy: 0.8400 - val_loss: 0.6706 - val_accuracy: 0.8600\n",
      "10/10 [==============================] - 10s 1s/step - loss: 0.4699 - accuracy: 0.8400 - val_loss: 0.6706 - val_accuracy: 0.8600\n",
      "Epoch 98/100\n",
      "Epoch 98/100\n",
      "10/10 [==============================] - 10s 1s/step - loss: 0.3795 - accuracy: 0.8900 - val_loss: 0.6962 - val_accuracy: 0.8400\n",
      "10/10 [==============================] - 10s 1s/step - loss: 0.3795 - accuracy: 0.8900 - val_loss: 0.6962 - val_accuracy: 0.8400\n",
      "Epoch 99/100\n",
      "Epoch 99/100\n",
      "10/10 [==============================] - 11s 1s/step - loss: 0.3676 - accuracy: 0.8950 - val_loss: 0.7064 - val_accuracy: 0.8600\n",
      "10/10 [==============================] - 11s 1s/step - loss: 0.3676 - accuracy: 0.8950 - val_loss: 0.7064 - val_accuracy: 0.8600\n",
      "Epoch 100/100\n",
      "Epoch 100/100\n",
      "10/10 [==============================] - 11s 1s/step - loss: 0.5026 - accuracy: 0.8400 - val_loss: 0.8864 - val_accuracy: 0.8400\n",
      "10/10 [==============================] - 11s 1s/step - loss: 0.5026 - accuracy: 0.8400 - val_loss: 0.8864 - val_accuracy: 0.8400\n"
     ]
    }
   ],
   "source": [
    "history = classifier.fit_generator(training_set, epochs =100,\n",
    "                                  validation_data=validation_set)"
   ]
  },
  {
   "cell_type": "code",
   "execution_count": 75,
   "id": "5c14f6a1",
   "metadata": {},
   "outputs": [],
   "source": [
    "#Displaying curves of loss and accuracy during training"
   ]
  },
  {
   "cell_type": "code",
   "execution_count": 76,
   "id": "b208c4af",
   "metadata": {},
   "outputs": [],
   "source": [
    "import matplotlib.pyplot as plt"
   ]
  },
  {
   "cell_type": "code",
   "execution_count": 77,
   "id": "661ff31e",
   "metadata": {},
   "outputs": [],
   "source": [
    "acc = history.history['accuracy']"
   ]
  },
  {
   "cell_type": "code",
   "execution_count": 78,
   "id": "fee6cad0",
   "metadata": {},
   "outputs": [],
   "source": [
    "val_acc = history.history['val_accuracy']"
   ]
  },
  {
   "cell_type": "code",
   "execution_count": 79,
   "id": "b81a782b",
   "metadata": {},
   "outputs": [],
   "source": [
    "loss = history.history['loss']"
   ]
  },
  {
   "cell_type": "code",
   "execution_count": 80,
   "id": "32a8ec9e",
   "metadata": {},
   "outputs": [],
   "source": [
    "val_loss = history.history['val_loss']"
   ]
  },
  {
   "cell_type": "code",
   "execution_count": 81,
   "id": "18374cbe",
   "metadata": {},
   "outputs": [],
   "source": [
    "epochs = range(1, len(acc) + 1)"
   ]
  },
  {
   "cell_type": "code",
   "execution_count": 82,
   "id": "9e1bc8ea",
   "metadata": {},
   "outputs": [
    {
     "data": {
      "text/plain": [
       "<Figure size 432x288 with 0 Axes>"
      ]
     },
     "execution_count": 82,
     "metadata": {},
     "output_type": "execute_result"
    },
    {
     "data": {
      "text/plain": [
       "<Figure size 432x288 with 0 Axes>"
      ]
     },
     "execution_count": 82,
     "metadata": {},
     "output_type": "execute_result"
    },
    {
     "data": {
      "image/png": "[encoded data removed]",
      "text/plain": [
       "<Figure size 432x288 with 1 Axes>"
      ]
     },
     "metadata": {
      "needs_background": "light"
     },
     "output_type": "display_data"
    },
    {
     "data": {
      "text/plain": [
       "<Figure size 432x288 with 0 Axes>"
      ]
     },
     "metadata": {},
     "output_type": "display_data"
    },
    {
     "data": {
      "image/png": "[encoded data removed]",
      "text/plain": [
       "<Figure size 432x288 with 1 Axes>"
      ]
     },
     "metadata": {
      "needs_background": "light"
     },
     "output_type": "display_data"
    },
    {
     "data": {
      "text/plain": [
       "<Figure size 432x288 with 0 Axes>"
      ]
     },
     "metadata": {},
     "output_type": "display_data"
    }
   ],
   "source": [
    "plt.plot(epochs, acc, 'bo', label='Training acc')\n",
    "plt.plot(epochs, val_acc, 'g', label='Validation acc')\n",
    "plt.title('Training and validation accuracy')\n",
    "plt.legend()\n",
    "plt.figure()"
   ]
  },
  {
   "cell_type": "code",
   "execution_count": 83,
   "id": "b9a1412f",
   "metadata": {},
   "outputs": [
    {
     "data": {
      "text/plain": [
       "<Figure size 432x288 with 0 Axes>"
      ]
     },
     "execution_count": 83,
     "metadata": {},
     "output_type": "execute_result"
    },
    {
     "data": {
      "text/plain": [
       "<Figure size 432x288 with 0 Axes>"
      ]
     },
     "execution_count": 83,
     "metadata": {},
     "output_type": "execute_result"
    },
    {
     "data": {
      "image/png": "[encoded data removed]",
      "text/plain": [
       "<Figure size 432x288 with 1 Axes>"
      ]
     },
     "metadata": {
      "needs_background": "light"
     },
     "output_type": "display_data"
    },
    {
     "data": {
      "text/plain": [
       "<Figure size 432x288 with 0 Axes>"
      ]
     },
     "metadata": {},
     "output_type": "display_data"
    },
    {
     "data": {
      "image/png": "[encoded data removed]",
      "text/plain": [
       "<Figure size 432x288 with 1 Axes>"
      ]
     },
     "metadata": {
      "needs_background": "light"
     },
     "output_type": "display_data"
    },
    {
     "data": {
      "text/plain": [
       "<Figure size 432x288 with 0 Axes>"
      ]
     },
     "metadata": {},
     "output_type": "display_data"
    }
   ],
   "source": [
    "plt.plot(epochs, loss, 'bo', label='Training loss')\n",
    "plt.plot(epochs, val_loss, 'g', label='Validation loss')\n",
    "plt.title('Training and validation loss')\n",
    "plt.legend()\n",
    "plt.figure()"
   ]
  },
  {
   "cell_type": "code",
   "execution_count": null,
   "id": "3ec302f7",
   "metadata": {},
   "outputs": [],
   "source": [
    " "
   ]
  },
  {
   "cell_type": "code",
   "execution_count": null,
   "id": "16f07878",
   "metadata": {},
   "outputs": [],
   "source": []
  }
 ],
 "metadata": {
  "kernelspec": {
   "display_name": "Python 3 (ipykernel)",
   "language": "python",
   "name": "python3"
  },
  "language_info": {
   "codemirror_mode": {
    "name": "ipython",
    "version": 3
   },
   "file_extension": ".py",
   "mimetype": "text/x-python",
   "name": "python",
   "nbconvert_exporter": "python",
   "pygments_lexer": "ipython3",
   "version": "3.9.12"
  }
 },
 "nbformat": 4,
 "nbformat_minor": 5
}
